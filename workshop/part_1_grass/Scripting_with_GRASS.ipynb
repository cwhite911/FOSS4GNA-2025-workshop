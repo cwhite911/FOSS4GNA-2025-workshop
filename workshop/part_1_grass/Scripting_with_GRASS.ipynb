{
 "cells": [
  {
   "cell_type": "markdown",
   "id": "ac4fce4a",
   "metadata": {},
   "source": [
    "# Part 1: Python Scripting with GRASS\n",
    "\n",
    "**_Corey White, Caitlin Haedrich and Vaclav Petras_**\n",
    "\n",
    "_FOSS4G-NA 2025_\n",
    "\n",
    "Contents:\n",
    "1. [Set up GRASS environment](#1.-Set-up-GRASS-environment)\n",
    "2. [Create a GRASS Python function](#2.-Scripting-with-GRASS-Tools)\n",
    "3. [Convert the function to an executable script](#3.-From-Function-to-Executable-Script)"
   ]
  },
  {
   "cell_type": "markdown",
   "id": "6d4e6dc3",
   "metadata": {},
   "source": [
    "***\n",
    "\n",
    "## 1. Set up GRASS environment"
   ]
  },
  {
   "cell_type": "markdown",
   "id": "7068f8dc",
   "metadata": {},
   "source": [
    "Import the Python standard libraries we need."
   ]
  },
  {
   "cell_type": "code",
   "execution_count": null,
   "id": "e7e817a1",
   "metadata": {},
   "outputs": [],
   "source": [
    "import grass.jupyter as gj\n",
    "from grass.tools import Tools"
   ]
  },
  {
   "cell_type": "markdown",
   "id": "8888419f",
   "metadata": {},
   "source": [
    "Download one of the GRASS [sample projects](https://grass.osgeo.org/download/data/) using the `g.download.project` tool:"
   ]
  },
  {
   "cell_type": "code",
   "execution_count": null,
   "id": "ebb2dda0",
   "metadata": {},
   "outputs": [],
   "source": [
    "!grass --tmp-project XY --exec g.download.project url=https://grass.osgeo.org/sampledata/north_carolina/nc_basic_spm_grass7.tar.gz path=$HOME"
   ]
  },
  {
   "cell_type": "markdown",
   "id": "7b9651ee",
   "metadata": {},
   "source": [
    "Start a GRASS session with `gj.init`. If not using `grass.jupyter` (i.e. writing as script as we will later), start a GRASS session with `grass.script.setup.init()`."
   ]
  },
  {
   "cell_type": "code",
   "execution_count": null,
   "id": "ed8cbbd3",
   "metadata": {},
   "outputs": [],
   "source": [
    "gj.init(\"/root/nc_basic_spm_grass7\")"
   ]
  },
  {
   "cell_type": "markdown",
   "id": "1db8bc53",
   "metadata": {},
   "source": [
    "We've launched GRASS now! We can access GRASS GIS commands using the command line interface (with the `!` line magic):"
   ]
  },
  {
   "cell_type": "code",
   "execution_count": null,
   "id": "1e85bb0a",
   "metadata": {},
   "outputs": [],
   "source": [
    "!g.version"
   ]
  },
  {
   "cell_type": "code",
   "execution_count": null,
   "id": "20525f06",
   "metadata": {},
   "outputs": [],
   "source": [
    "!g.list type=raster"
   ]
  },
  {
   "cell_type": "markdown",
   "id": "e8dc572c",
   "metadata": {},
   "source": [
    "**Try it yourself**\n",
    "\n",
    "What other data is in this project? Look at the [documentation for `g.list`](https://grass.osgeo.org/grass-devel/manuals/g.list.html) to see other options for the `type=` kwarg."
   ]
  },
  {
   "cell_type": "code",
   "execution_count": null,
   "id": "e408dc2c",
   "metadata": {},
   "outputs": [],
   "source": []
  },
  {
   "cell_type": "markdown",
   "id": "911c5686",
   "metadata": {},
   "source": [
    "***\n",
    "\n",
    "## 2. Scripting with GRASS Tools"
   ]
  },
  {
   "cell_type": "markdown",
   "id": "be44dacf",
   "metadata": {},
   "source": [
    "GRASS functionality is available through tools. There are over 500 different tools in the core distribution and over 300 addon tools or extensions that can be used to prepare and analyze data.\n",
    "\n",
    "Check out the [manual page](https://grass.osgeo.org/grass-devel/manuals/full_index.html) to browse tools.\n",
    "\n",
    "We'll use the `grass.tools` Python API accessing these tools."
   ]
  },
  {
   "cell_type": "code",
   "execution_count": null,
   "id": "0c20f1dd",
   "metadata": {},
   "outputs": [],
   "source": [
    "tools = Tools()"
   ]
  },
  {
   "cell_type": "code",
   "execution_count": null,
   "id": "cac37fb8",
   "metadata": {},
   "outputs": [],
   "source": [
    "tools.g_version().text"
   ]
  },
  {
   "cell_type": "code",
   "execution_count": null,
   "id": "bbbf90fd",
   "metadata": {},
   "outputs": [],
   "source": [
    "print(tools.g_region(flags=\"p\").text)"
   ]
  },
  {
   "cell_type": "code",
   "execution_count": null,
   "id": "636cb030",
   "metadata": {},
   "outputs": [],
   "source": [
    "print(tools.g_region(raster=\"elevation\", flags=\"p\").text)"
   ]
  },
  {
   "cell_type": "markdown",
   "id": "81e46353",
   "metadata": {},
   "source": [
    "### Check out our data"
   ]
  },
  {
   "cell_type": "code",
   "execution_count": null,
   "id": "b0eadbb6",
   "metadata": {},
   "outputs": [],
   "source": [
    "layers = tools.g_list(type=\"all\", format=\"shell\").text  # flags=\"t\"\n",
    "print(layers)"
   ]
  },
  {
   "cell_type": "markdown",
   "id": "07565f8c",
   "metadata": {},
   "source": [
    "`grass.jupyter.Map()` creates and displays GRASS maps as PNG images. Similar to `grass.tools`, `gj.Map()` accepts any GRASS display module as a method by replacing the \".\" with \"_\" in the module name. For example:"
   ]
  },
  {
   "cell_type": "code",
   "execution_count": null,
   "id": "a0cd81a7",
   "metadata": {},
   "outputs": [],
   "source": [
    "example = gj.Map()\n",
    "example.d_shade(shade=\"elevation_shade\", color=\"elevation\")\n",
    "example.d_barscale(bgcolor=\"none\")  # d.barscale\n",
    "example.show()"
   ]
  },
  {
   "cell_type": "markdown",
   "id": "5fcf6d9f",
   "metadata": {},
   "source": [
    "To display the image, we call the `show()` method. You can also save the image with the `save()` method.\n",
    "\n",
    "**Try it yourself**\n",
    "\n",
    "Add a legend to the map above. Try using `d.rast` to display the elevation raster without the shading. Save the map as a png.\n",
    "\n",
    "<details>\n",
    "    <summary>👉 <b>click to see solution</b></summary>\n",
    "    \n",
    "```python\n",
    "# To display a legend\n",
    "example.d_legend(raster=\"elevation\", flags=\"b\", fontsize=\"10\")  # d.legend\n",
    "\n",
    "# To display the elevation raster\n",
    "example.d_rast(map=\"elevation\")  # d.rast map=elevation\n",
    "\n",
    "# To save the map\n",
    "example.save(\"example.png\")\n",
    "```\n",
    "</details>"
   ]
  },
  {
   "cell_type": "markdown",
   "id": "25b0ed53",
   "metadata": {},
   "source": [
    "\n",
    "`grass.jupyter.InteractiveMap()` creates leaflet maps that are interactive. They can also be saved as html with the `save()` method and embedded on a website or shared."
   ]
  },
  {
   "cell_type": "code",
   "execution_count": null,
   "id": "a5981be6",
   "metadata": {},
   "outputs": [],
   "source": [
    "map = gj.InteractiveMap()\n",
    "map.add_raster(\"elevation\", opacity=0.6)\n",
    "map.show()"
   ]
  },
  {
   "cell_type": "markdown",
   "id": "6fd16aa7",
   "metadata": {},
   "source": [
    "### Building a function\n",
    "\n",
    "We're going to use [r.sim.water](https://grass.osgeo.org/grass-devel/manuals/r.sim.water.html) to model overland flow. The `r.sim.water` tool is the GRASS implementation of the SIMWE model ([Mitas and Mitasova, 1998](https://agupubs.onlinelibrary.wiley.com/doi/abs/10.1029/97WR03347)), a monte carlo path-tracing approach to solving the St. Venant equations for overland flow.\n",
    "\n",
    "First, we'll shrink our computational region by shrinking each edge by a few kilometers."
   ]
  },
  {
   "cell_type": "code",
   "execution_count": null,
   "id": "ad1d4b69",
   "metadata": {},
   "outputs": [],
   "source": [
    "print(tools.g_region(s=\"s+5500\", n=\"n-1500\", w=\"w+3500\", e=\"e-4000\", flags=\"p\").text)\n",
    "\n",
    "example = gj.Map(use_region=True)\n",
    "example.d_shade(shade=\"elevation_shade\", color=\"elevation\")\n",
    "example.show()"
   ]
  },
  {
   "cell_type": "markdown",
   "id": "82a21064",
   "metadata": {},
   "source": [
    "Now, run SIMWE:"
   ]
  },
  {
   "cell_type": "code",
   "execution_count": null,
   "id": "f72e6a4c",
   "metadata": {
    "tags": []
   },
   "outputs": [],
   "source": [
    "tools.r_slope_aspect(elevation=\"elevation\", dx=\"dx\", dy=\"dy\")\n",
    "tools.r_sim_water(elevation=\"elevation\", dx=\"dx\", dy=\"dy\", depth=\"depth\")"
   ]
  },
  {
   "cell_type": "markdown",
   "id": "ad486598",
   "metadata": {},
   "source": [
    "Look at the result:"
   ]
  },
  {
   "cell_type": "code",
   "execution_count": null,
   "id": "6000b83a",
   "metadata": {},
   "outputs": [],
   "source": [
    "img = gj.Map(use_region=True)\n",
    "img.d_shade(shade=\"elevation_shade\", color=\"depth\")\n",
    "img.show()"
   ]
  },
  {
   "cell_type": "markdown",
   "id": "96b0c750",
   "metadata": {},
   "source": [
    "If that works, let's put it into a Python function. Python function definition starts with `def` followed by a space, name of the function, parentheses which contain parameters, colon, and a function body which is an indented block of code. General syntax looks like this:\n",
    "\n",
    "```python\n",
    "def function_name(a, b):\n",
    "    # code in the function, e.g.,\n",
    "    return a + b\n",
    "```\n",
    "\n",
    "This function takes two parameters, adds them together with `+`, and returns the result.\n",
    "\n",
    "Our function will have three parameters, namely elevation, rainfall_rate, and _env_. The _env_ parameter is the system environment variables which is optional here but we'll talk more about later when we start writing scripts.\n",
    "\n",
    "Here is our function which calls _r.sim.water_:"
   ]
  },
  {
   "cell_type": "code",
   "execution_count": null,
   "id": "5cefbb21",
   "metadata": {},
   "outputs": [],
   "source": [
    "def run_simwe(elevation, rainfall_rate=10, depth_output=\"depth\"):\n",
    "    tools.r_slope_aspect(elevation=elevation, dx=\"dx\", dy=\"dy\")\n",
    "    tools.r_sim_water(\n",
    "        elevation=elevation,\n",
    "        dx=\"dx\",\n",
    "        dy=\"dy\",\n",
    "        rain_value=rainfall_rate,\n",
    "        depth=depth_output,\n",
    "    )"
   ]
  },
  {
   "cell_type": "markdown",
   "id": "0c7eb27f",
   "metadata": {},
   "source": [
    "Our function creates new raster data, but does not return any value, so in Python, we don't need to have any `return` statement.\n",
    "\n",
    "Calling a custom function is compltely the same as calling any other function, so:"
   ]
  },
  {
   "cell_type": "code",
   "execution_count": null,
   "id": "fe2ef0e1",
   "metadata": {},
   "outputs": [],
   "source": [
    "run_simwe(elevation=\"elevation\", rainfall_rate=30, depth_output=\"depth_30mmhr\")"
   ]
  },
  {
   "cell_type": "markdown",
   "id": "eedc8a17",
   "metadata": {},
   "source": [
    "Check the result:"
   ]
  },
  {
   "cell_type": "code",
   "execution_count": null,
   "id": "b64db302",
   "metadata": {},
   "outputs": [],
   "source": [
    "print(tools.r_info(map=\"depth_30mmhr\", format=\"plain\").text)"
   ]
  },
  {
   "cell_type": "code",
   "execution_count": null,
   "id": "dc3364b1",
   "metadata": {},
   "outputs": [],
   "source": [
    "img = gj.Map()\n",
    "img.d_rast(map=\"depth_30mmhr\")\n",
    "img.show()"
   ]
  },
  {
   "cell_type": "markdown",
   "id": "0c9554aa",
   "metadata": {},
   "source": [
    "***\n",
    "\n",
    "## 3. From Function to Executable Script\n",
    "\n",
    "A basic Python can have a very simple structure:"
   ]
  },
  {
   "cell_type": "code",
   "execution_count": null,
   "id": "4f4dbaf6",
   "metadata": {
    "jp-MarkdownHeadingCollapsed": true,
    "tags": []
   },
   "outputs": [],
   "source": [
    "%%python\n",
    "print(\"Hello!\")"
   ]
  },
  {
   "cell_type": "markdown",
   "id": "b90e57ea",
   "metadata": {},
   "source": [
    "Here, the `%%python` line is a IPython kernel magic telling the Jupyter notebook that the cell is a content of a file which should be executed as a Python script. The Python script itself has only one line and that is `print(\"Hello!\")`. In a text editor, you would leave out the notebook-specific  `%%python`, but here we will continue using it so that running the cell actually executes its content as a Python script.\n",
    "\n",
    "For our non-trivial Python script, we will use a slighly more complex structure which includes `#!` line as a first line, a main function called _main_, and the call of this function in a \"if-name-equals-main\" block. A full, but minimal, script has these seven lines:"
   ]
  },
  {
   "cell_type": "code",
   "execution_count": null,
   "id": "1f00c109",
   "metadata": {},
   "outputs": [],
   "source": [
    "%%python\n",
    "#!/usr/bin/env python3\n",
    "\n",
    "\n",
    "def main():\n",
    "    pass\n",
    "\n",
    "\n",
    "if __name__ == \"__main__\":\n",
    "    main()"
   ]
  },
  {
   "cell_type": "markdown",
   "id": "5a378d19",
   "metadata": {},
   "source": [
    "The block which starts with `if __name__ == '__main__'` is what Python will execute when the file is used as a Python script. To keep our code organized, we call there the _main_ function. The _main_ function now contains only `pass` which means tells Python to do nothing. We will replace this `pass` statement with our code. In a script we will create, all code we want to execute will be in the _main_ function, but we will also create other functions and call them from the _main_ function.\n",
    "\n",
    "Finally, the `#!` line is called a shebang and is used on Linux and macOS and we won't be interacting with it. Note, again, that the `%%python` line is specific to Jupyter and it is not a part of the actual script."
   ]
  },
  {
   "cell_type": "markdown",
   "id": "b2e2056f",
   "metadata": {},
   "source": [
    "#### GRASS Function to GRASS Script\n",
    "\n",
    "Now, we add the _run_simwe_ function we have defined earlier, and we add new code to the _main_ function. The complete file is:"
   ]
  },
  {
   "cell_type": "code",
   "execution_count": null,
   "id": "bdbafd35",
   "metadata": {},
   "outputs": [],
   "source": [
    "%%python\n",
    "#!/usr/bin/env python3\n",
    "\n",
    "import subprocess\n",
    "import sys\n",
    "\n",
    "\n",
    "def run_simwe(elevation, rainfall_rate=10, depth_output=\"depth\", tools=None):\n",
    "    tools.r_slope_aspect(elevation=elevation, dx=\"dx\", dy=\"dy\")\n",
    "    tools.r_sim_water(\n",
    "        elevation=elevation,\n",
    "        dx=\"dx\",\n",
    "        dy=\"dy\",\n",
    "        rain_value=rainfall_rate,\n",
    "        depth=depth_output,\n",
    "    )\n",
    "\n",
    "\n",
    "def main():\n",
    "    # Append GRASS to the python system path\n",
    "    sys.path.append(\n",
    "        subprocess.check_output([\"grass\", \"--config\", \"python_path\"], text=True).strip()\n",
    "    )\n",
    "\n",
    "    import grass.script as gs\n",
    "    from grass.tools import Tools\n",
    "\n",
    "    # Initialize the GRASS session\n",
    "    with gs.setup.init(\"/root/nc_basic_spm_grass7\") as session:\n",
    "        tools = Tools(session=session)\n",
    "        tools.g_region(\n",
    "            raster=\"elevation\", res=40\n",
    "        )  # notice res downsampling so this script runs quickly!\n",
    "        run_simwe(elevation=\"elevation\", rainfall_rate=60, tools=tools)\n",
    "\n",
    "\n",
    "if __name__ == \"__main__\":\n",
    "    main()"
   ]
  },
  {
   "cell_type": "markdown",
   "id": "606d80d6",
   "metadata": {},
   "source": [
    "Replace the `%%python` magic at the beginning of the cell with `%%file my_grass_script.py` to write the contents of the cell into a separate file. Now, we can call this script from the terminal!"
   ]
  },
  {
   "cell_type": "code",
   "execution_count": null,
   "id": "a974da63",
   "metadata": {},
   "outputs": [],
   "source": []
  }
 ],
 "metadata": {
  "kernelspec": {
   "display_name": "Python 3",
   "language": "python",
   "name": "python3"
  },
  "language_info": {
   "codemirror_mode": {
    "name": "ipython",
    "version": 3
   },
   "file_extension": ".py",
   "mimetype": "text/x-python",
   "name": "python",
   "nbconvert_exporter": "python",
   "pygments_lexer": "ipython3",
   "version": "3.14.0"
  }
 },
 "nbformat": 4,
 "nbformat_minor": 5
}
