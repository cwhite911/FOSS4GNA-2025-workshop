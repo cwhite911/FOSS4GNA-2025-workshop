{
 "cells": [
  {
   "cell_type": "markdown",
   "id": "ac4fce4a",
   "metadata": {},
   "source": [
    "# Python Scripting with GRASS\n",
    "\n",
    "**_Corey White, Caitlin Haedrich and Vaclav Petras_**\n",
    "\n",
    "_FOSS4G-NA 2025_\n",
    "\n",
    "Contents:\n",
    "1. [Set up GRASS environment](#1.-Set-up-GRASS-environment)\n",
    "2. [Create a GRASS Python function](#2.-Scripting-with-GRASS-Tools)\n",
    "3. [Convert the function to an executable script](#3.-From-Function-to-Executable-Script)"
   ]
  },
  {
   "cell_type": "markdown",
   "id": "6d4e6dc3",
   "metadata": {},
   "source": [
    "***\n",
    "\n",
    "## 1. Set up GRASS environment"
   ]
  },
  {
   "cell_type": "markdown",
   "id": "7068f8dc",
   "metadata": {},
   "source": [
    "Import the Python standard libraries we need."
   ]
  },
  {
   "cell_type": "code",
   "execution_count": null,
   "id": "e7e817a1",
   "metadata": {},
   "outputs": [],
   "source": [
    "import subprocess\n",
    "import sys"
   ]
  },
  {
   "cell_type": "markdown",
   "id": "cb435384",
   "metadata": {},
   "source": [
    "We are going to import the GRASS GIS Python API ([`grass.tools`](https://grass.osgeo.org/grass-devel/manuals/python_intro.html)) and the GRASS GIS Jupyter package ([`grass.jupyter`](https://grass.osgeo.org/grass-devel/manuals/jupyter_intro.html)), but first, we'll need to ask `grass` to check it's `--config` to see where the python packages are then add them to the system path before we can import them. This command is slightly different for each operating system.\n",
    "\n",
    "We use `subprocess.check_output` to find the path and `sys.path.append` to add it to the path."
   ]
  },
  {
   "cell_type": "code",
   "execution_count": null,
   "id": "c6a51abd",
   "metadata": {},
   "outputs": [],
   "source": [
    "sys.path.append(\n",
    "    subprocess.check_output([\"grass\", \"--config\", \"python_path\"], text=True).strip()\n",
    ")"
   ]
  },
  {
   "cell_type": "markdown",
   "id": "e538e5a9",
   "metadata": {},
   "source": [
    "And now we can import the GRASS python packages!"
   ]
  },
  {
   "cell_type": "code",
   "execution_count": null,
   "id": "6776f1e7",
   "metadata": {},
   "outputs": [],
   "source": [
    "# Import the GRASS GIS packages we need.\n",
    "import grass.jupyter as gj\n",
    "import grass.tools as Tools"
   ]
  },
  {
   "cell_type": "markdown",
   "id": "7b9651ee",
   "metadata": {},
   "source": [
    "Start a GRASS session with `gj.init`. If not using `grass.jupyter` (i.e. writing as script as we will later), start a GRASS session with `grass.script.setup.init()`."
   ]
  },
  {
   "cell_type": "code",
   "execution_count": null,
   "id": "ed8cbbd3",
   "metadata": {},
   "outputs": [],
   "source": [
    "gj.init(\"PROJECTNAME\")"
   ]
  },
  {
   "cell_type": "markdown",
   "id": "1db8bc53",
   "metadata": {},
   "source": [
    "We've launched GRASS GIS now! We can access GRASS GIS commands using the command line interface (with the `!` line magic):"
   ]
  },
  {
   "cell_type": "code",
   "execution_count": null,
   "id": "1e85bb0a",
   "metadata": {},
   "outputs": [],
   "source": [
    "!g.version"
   ]
  },
  {
   "cell_type": "markdown",
   "id": "911c5686",
   "metadata": {},
   "source": [
    "***\n",
    "\n",
    "## 2. Scripting with GRASS Tools"
   ]
  },
  {
   "cell_type": "markdown",
   "id": "be44dacf",
   "metadata": {},
   "source": [
    "GRASS functionality is available through tools. There are over 500 different tools in the core distribution and over 300 addon tools or extensions that can be used to prepare and analyze data.\n",
    "\n",
    "Tools respect the following naming conventions:\n",
    "\n",
    "Prefix | Function | Example\n",
    "------ | -------- | -------\n",
    "r.* | raster processing | r.mapcalc: map algebra\n",
    "v.*\t| vector processing\t| v.clean: topological cleaning\n",
    "i.*\t| imagery processing | i.segment: object recognition\n",
    "db.* | database management | db.select: select values from table\n",
    "r3.* | 3D raster processing | r3.stats: 3D raster statistics\n",
    "t.* | temporal data processing | t.rast.aggregate: temporal aggregation\n",
    "g.* | general data management | g.rename: renames map\n",
    "d.* | display | d.rast: display raster map\n",
    "\n",
    "Note also that some tools have multiple dots in their names. For example, tools staring with v.net.* deal with vector network analysis and r.in.* tools import raster data into GRASS GIS spatial database.\n",
    "\n",
    "Check out the [manual page](https://grass.osgeo.org/grass-devel/manuals/full_index.html) to browse tools.\n",
    "\n",
    "We'll use the `grass.tools` Python API accessing these tools."
   ]
  },
  {
   "cell_type": "code",
   "execution_count": null,
   "id": "0c20f1dd",
   "metadata": {},
   "outputs": [],
   "source": [
    "tools = Tools()"
   ]
  },
  {
   "cell_type": "code",
   "execution_count": null,
   "id": "cac37fb8",
   "metadata": {},
   "outputs": [],
   "source": [
    "tools.g_version()"
   ]
  },
  {
   "cell_type": "code",
   "execution_count": null,
   "id": "bbbf90fd",
   "metadata": {},
   "outputs": [],
   "source": [
    "tools.g_region()"
   ]
  },
  {
   "cell_type": "code",
   "execution_count": null,
   "id": "636cb030",
   "metadata": {},
   "outputs": [],
   "source": [
    "tools.g_region(raster=\"elevation\")"
   ]
  },
  {
   "cell_type": "markdown",
   "id": "81e46353",
   "metadata": {},
   "source": [
    "#### Let's check out our data"
   ]
  },
  {
   "cell_type": "code",
   "execution_count": null,
   "id": "b0eadbb6",
   "metadata": {},
   "outputs": [],
   "source": [
    "tools.g_list(type=\"all\")"
   ]
  },
  {
   "cell_type": "markdown",
   "id": "07565f8c",
   "metadata": {},
   "source": [
    "`grass.jupyter.Map()` creates and displays GRASS maps as PNG images. Similar to `grass.tools`, `gj.Map()` accepts any GRASS display module as a method by replacing the \".\" with \"_\" in the module name. For example:"
   ]
  },
  {
   "cell_type": "code",
   "execution_count": null,
   "id": "a0cd81a7",
   "metadata": {},
   "outputs": [],
   "source": [
    "example = gj.Map()\n",
    "example.d_rast(map=\"elevation\")  # d.rast map=elevation\n",
    "example.d_barscale(bgcolor=\"none\")  # d.barscale\n",
    "example.d_legend(raster=\"elevation\")  # d.legend\n",
    "example.show()"
   ]
  },
  {
   "cell_type": "markdown",
   "id": "5fcf6d9f",
   "metadata": {},
   "source": [
    "To display the image, we call the `show()` method. You can also save the image with the `save()` method.\n",
    "\n",
    "`grass.jupyter.InteractiveMap()` creates leaflet maps that are interactive. They can also be saved as html with the `save()` method and embedded on a website or shared."
   ]
  },
  {
   "cell_type": "code",
   "execution_count": null,
   "id": "a5981be6",
   "metadata": {},
   "outputs": [],
   "source": [
    "map = gj.InteractiveMap()\n",
    "map.add_raster(\"elevation\", opacity=0.6)\n",
    "map.show()"
   ]
  },
  {
   "cell_type": "markdown",
   "id": "6fd16aa7",
   "metadata": {},
   "source": [
    "#### Building a function\n",
    "\n",
    "We're going to use [r.sim.water](https://grass.osgeo.org/grass-devel/manuals/r.sim.water.html) to model overland flow. The `r.sim.water` tool is the GRASS implementation of the SIMWE model ([Mitas and Mitasova, 1998](https://agupubs.onlinelibrary.wiley.com/doi/abs/10.1029/97WR03347)), a monte carlo path-tracing approach to solving the St. Venant equations for overland flow."
   ]
  },
  {
   "cell_type": "code",
   "execution_count": null,
   "id": "f72e6a4c",
   "metadata": {
    "tags": []
   },
   "outputs": [],
   "source": [
    "tools.r_slope_aspect(elevation=\"elevation\", dx=\"dx\", dy=\"dy\")\n",
    "tools.r_sim_water(\n",
    "    elevation=\"elevation\",\n",
    "    dx=\"dx\",\n",
    "    dy=\"dy\",\n",
    "    depth=\"depth\",\n",
    "    flags=\"t\",\n",
    "    niterations=30,\n",
    ")"
   ]
  },
  {
   "cell_type": "markdown",
   "id": "ad486598",
   "metadata": {},
   "source": [
    "Look at the result (or run other tools to see if it works as expected):"
   ]
  },
  {
   "cell_type": "code",
   "execution_count": null,
   "id": "6000b83a",
   "metadata": {},
   "outputs": [],
   "source": [
    "img = gj.Map()\n",
    "img.d_rast(map=\"depth.30\")\n",
    "img.show()"
   ]
  },
  {
   "cell_type": "markdown",
   "id": "96b0c750",
   "metadata": {},
   "source": [
    "If that works, let's put it into a Python function. Python function definition starts with `def` followed by a space, name of the function, parentheses which contain parameters, colon, and a function body which is an indented block of code. General syntax looks like this:\n",
    "\n",
    "```python\n",
    "def function_name(a, b):\n",
    "    # code in the function, e.g.,\n",
    "    return a + b\n",
    "```\n",
    "\n",
    "This function takes two parameters, adds them together with `+`, and returns the result.\n",
    "\n",
    "Our function will have three parameters, namely elevation, rainfall_rate, and _env_. The _env_ parameter is the system environment variables which is optional here but we'll talk more about later when we start writing scripts.\n",
    "\n",
    "Here is our function which calls _r.sim.water_:"
   ]
  },
  {
   "cell_type": "code",
   "execution_count": null,
   "id": "5cefbb21",
   "metadata": {},
   "outputs": [],
   "source": [
    "def run_simwe(elevation, rainfall_rate=40):\n",
    "    tools.r_slope_aspect(elevation=elevation, dx=\"dx\", dy=\"dy\")\n",
    "    tools.r_sim_water(\n",
    "        elevation=elevation,\n",
    "        dx=\"dx\",\n",
    "        dy=\"dy\",\n",
    "        rain=rainfall_rate,\n",
    "        depth=\"depth\",\n",
    "        flags=\"t\",\n",
    "        niterations=30,\n",
    "    )"
   ]
  },
  {
   "cell_type": "markdown",
   "id": "0c7eb27f",
   "metadata": {},
   "source": [
    "Our function creates new raster data, but does not return any value, so in Python, we don't need to have any `return` statement.\n",
    "\n",
    "Calling a custom function is compltely the same as calling any other function, so:"
   ]
  },
  {
   "cell_type": "code",
   "execution_count": null,
   "id": "fe2ef0e1",
   "metadata": {},
   "outputs": [],
   "source": [
    "run_simwe(elevation=\"elevation\")"
   ]
  },
  {
   "cell_type": "markdown",
   "id": "eedc8a17",
   "metadata": {},
   "source": [
    "Check the result:"
   ]
  },
  {
   "cell_type": "code",
   "execution_count": null,
   "id": "b64db302",
   "metadata": {},
   "outputs": [],
   "source": [
    "tools.r_info(map=\"depth.30\", flags=\"g\")"
   ]
  },
  {
   "cell_type": "code",
   "execution_count": null,
   "id": "dc3364b1",
   "metadata": {},
   "outputs": [],
   "source": [
    "img = gj.Map()\n",
    "img.d_rast(map=\"depth.30\")\n",
    "img.show()"
   ]
  },
  {
   "cell_type": "code",
   "execution_count": null,
   "id": "0755b5c2",
   "metadata": {},
   "outputs": [],
   "source": [
    "# TODO Add nicer temporal visualization here\n",
    "# We could have the script write a GIF using gj.Timeseries.save()?"
   ]
  },
  {
   "cell_type": "markdown",
   "id": "0c9554aa",
   "metadata": {},
   "source": [
    "***\n",
    "\n",
    "## 3. From Function to Executable Script\n",
    "\n",
    "A basic Python can have a very simple structure:"
   ]
  },
  {
   "cell_type": "code",
   "execution_count": null,
   "id": "4f4dbaf6",
   "metadata": {
    "jp-MarkdownHeadingCollapsed": true,
    "tags": []
   },
   "outputs": [],
   "source": [
    "%%python\n",
    "print(\"Hello!\")"
   ]
  },
  {
   "cell_type": "markdown",
   "id": "b90e57ea",
   "metadata": {},
   "source": [
    "Here, the `%%python` line is a IPython kernel magic telling the Jupyter notebook that the cell is a content of a file which should be executed as a Python script. The Python script itself has only one line and that is `print(\"Hello!\")`. In a text editor, you would leave out the notebook-specific  `%%python`, but here we will continue using it so that running the cell actually executes its content as a Python script.\n",
    "\n",
    "For our non-trivial Python script, we will use a slighly more complex structure which includes `#!` line as a first line, a main function called _main_, and the call of this function in a \"if-name-equals-main\" block. A full, but minimal, script has these seven lines:"
   ]
  },
  {
   "cell_type": "code",
   "execution_count": null,
   "id": "1f00c109",
   "metadata": {},
   "outputs": [],
   "source": [
    "%%python\n",
    "#!/usr/bin/env python3\n",
    "\n",
    "\n",
    "def main():\n",
    "    pass\n",
    "\n",
    "\n",
    "if __name__ == \"__main__\":\n",
    "    main()"
   ]
  },
  {
   "cell_type": "markdown",
   "id": "5a378d19",
   "metadata": {},
   "source": [
    "The block which starts with `if __name__ == '__main__'` is what Python will execute when the file is used as a Python script. To keep our code organized, we call there the _main_ function. The _main_ function now contains only `pass` which means tells Python to do nothing. We will replace this `pass` statement with our code. In a script we will create, all code we want to execute will be in the _main_ function, but we will also create other functions and call them from the _main_ function.\n",
    "\n",
    "Finally, the `#!` line is called a shebang and is used on Linux and macOS and we won't be interacting with it. Note, again, that the `%%python` line is specific to Jupyter and it is not a part of the actual script."
   ]
  },
  {
   "cell_type": "markdown",
   "id": "b2e2056f",
   "metadata": {},
   "source": [
    "#### GRASS Function to GRASS Script\n",
    "\n",
    "Now, we add the _run_simwe_ function we have defined earlier, and we add new code to the _main_ function. The complete file is:"
   ]
  },
  {
   "cell_type": "code",
   "execution_count": null,
   "id": "bdbafd35",
   "metadata": {},
   "outputs": [],
   "source": [
    "%%python\n",
    "#!/usr/bin/env python3\n",
    "\n",
    "import subprocess\n",
    "import sys\n",
    "\n",
    "\n",
    "def run_simwe(elevation, rainfall_rate=40, tools=None):\n",
    "    tools.r_slope_aspect(elevation=elevation, dx=\"dx\", dy=\"dy\")\n",
    "    tools.r_sim_water(\n",
    "        elevation=elevation,\n",
    "        dx=\"dx\",\n",
    "        dy=\"dy\",\n",
    "        rain=rainfall_rate,\n",
    "        depth=\"depth\",\n",
    "        flags=\"t\",\n",
    "        niterations=30,\n",
    "    )\n",
    "\n",
    "\n",
    "def main():\n",
    "    # Append GRASS to the python system path\n",
    "    sys.path.append(\n",
    "        subprocess.check_output([\"grass\", \"--config\", \"python_path\"], text=True).strip()\n",
    "    )\n",
    "\n",
    "    import grass.script as gs\n",
    "    from grass.tools import Tools\n",
    "\n",
    "    # Initialize the GRASS session\n",
    "    with gs.setup.init(\"path/to/my_project\") as session:\n",
    "        tools = Tools(session=session)\n",
    "        tools.g_region(raster=\"elevation\")\n",
    "        run_simwe(elevation=\"elevation\", rainfall_rate=60, tools=tools)\n",
    "\n",
    "\n",
    "if __name__ == \"__main__\":\n",
    "    main()"
   ]
  },
  {
   "cell_type": "markdown",
   "id": "606d80d6",
   "metadata": {},
   "source": [
    "Replace the `%%python` magic at the beginning of the cell with `%%file my_grass_script.py` to write the contents of the cell into a separate file. Now, we can call this script from the terminal!"
   ]
  },
  {
   "cell_type": "code",
   "execution_count": null,
   "id": "a974da63",
   "metadata": {},
   "outputs": [],
   "source": []
  }
 ],
 "metadata": {
  "kernelspec": {
   "display_name": "Python 3",
   "language": "python",
   "name": "python3"
  },
  "language_info": {
   "codemirror_mode": {
    "name": "ipython",
    "version": 3
   },
   "file_extension": ".py",
   "mimetype": "text/x-python",
   "name": "python",
   "nbconvert_exporter": "python",
   "pygments_lexer": "ipython3",
   "version": "3.14.0"
  }
 },
 "nbformat": 4,
 "nbformat_minor": 5
}
