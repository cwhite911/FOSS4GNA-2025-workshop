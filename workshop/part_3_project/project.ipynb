{
 "cells": [
  {
   "cell_type": "markdown",
   "id": "0a1b8c5e",
   "metadata": {},
   "source": [
    "# Part 3: Hands-On Project"
   ]
  }
 ],
 "metadata": {
  "kernelspec": {
   "display_name": ".venv",
   "language": "python",
   "name": "python3"
  },
  "language_info": {
   "name": "python",
   "version": "3.13.2"
  }
 },
 "nbformat": 4,
 "nbformat_minor": 5
}
